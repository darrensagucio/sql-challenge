{
 "cells": [
  {
   "cell_type": "code",
   "execution_count": 1,
   "id": "conservative-discount",
   "metadata": {},
   "outputs": [],
   "source": [
    "# Pandas\n",
    "import pandas as pd\n",
    "import os\n",
    "from dotenv import load_dotenv\n",
    "\n",
    "# SQL Alchemy\n",
    "from sqlalchemy import create_engine"
   ]
  },
  {
   "cell_type": "code",
   "execution_count": 2,
   "id": "mighty-discussion",
   "metadata": {
    "scrolled": true
   },
   "outputs": [
    {
     "data": {
      "text/plain": [
       "True"
      ]
     },
     "execution_count": 2,
     "metadata": {},
     "output_type": "execute_result"
    }
   ],
   "source": [
    "# If Password Changes . . . \n",
    "\n",
    "load_dotenv()"
   ]
  },
  {
   "cell_type": "code",
   "execution_count": 3,
   "id": "premium-armstrong",
   "metadata": {},
   "outputs": [],
   "source": [
    "# Getting Variable In Enviroment \n",
    "\n",
    "url = os.environ.get(\"DATABASE_URL\")"
   ]
  },
  {
   "cell_type": "code",
   "execution_count": 4,
   "id": "catholic-payment",
   "metadata": {},
   "outputs": [],
   "source": [
    "# Creating And Connecting Engine \n",
    "\n",
    "engine = create_engine(url)\n",
    "conn = engine.connect()"
   ]
  },
  {
   "cell_type": "code",
   "execution_count": 5,
   "id": "intended-carbon",
   "metadata": {},
   "outputs": [],
   "source": [
    "# Reading SQL \n",
    "\n",
    "salaries_df = pd.read_sql(\"SELECT employee_id, salary FROM salaries\", conn)"
   ]
  },
  {
   "cell_type": "code",
   "execution_count": 6,
   "id": "opposed-zoning",
   "metadata": {},
   "outputs": [
    {
     "data": {
      "text/html": [
       "<div>\n",
       "<style scoped>\n",
       "    .dataframe tbody tr th:only-of-type {\n",
       "        vertical-align: middle;\n",
       "    }\n",
       "\n",
       "    .dataframe tbody tr th {\n",
       "        vertical-align: top;\n",
       "    }\n",
       "\n",
       "    .dataframe thead th {\n",
       "        text-align: right;\n",
       "    }\n",
       "</style>\n",
       "<table border=\"1\" class=\"dataframe\">\n",
       "  <thead>\n",
       "    <tr style=\"text-align: right;\">\n",
       "      <th></th>\n",
       "      <th>employee_id</th>\n",
       "      <th>salary</th>\n",
       "    </tr>\n",
       "  </thead>\n",
       "  <tbody>\n",
       "    <tr>\n",
       "      <th>0</th>\n",
       "      <td>10001</td>\n",
       "      <td>60117</td>\n",
       "    </tr>\n",
       "    <tr>\n",
       "      <th>1</th>\n",
       "      <td>10002</td>\n",
       "      <td>65828</td>\n",
       "    </tr>\n",
       "    <tr>\n",
       "      <th>2</th>\n",
       "      <td>10003</td>\n",
       "      <td>40006</td>\n",
       "    </tr>\n",
       "    <tr>\n",
       "      <th>3</th>\n",
       "      <td>10004</td>\n",
       "      <td>40054</td>\n",
       "    </tr>\n",
       "    <tr>\n",
       "      <th>4</th>\n",
       "      <td>10005</td>\n",
       "      <td>78228</td>\n",
       "    </tr>\n",
       "    <tr>\n",
       "      <th>...</th>\n",
       "      <td>...</td>\n",
       "      <td>...</td>\n",
       "    </tr>\n",
       "    <tr>\n",
       "      <th>300019</th>\n",
       "      <td>499995</td>\n",
       "      <td>40000</td>\n",
       "    </tr>\n",
       "    <tr>\n",
       "      <th>300020</th>\n",
       "      <td>499996</td>\n",
       "      <td>58058</td>\n",
       "    </tr>\n",
       "    <tr>\n",
       "      <th>300021</th>\n",
       "      <td>499997</td>\n",
       "      <td>49597</td>\n",
       "    </tr>\n",
       "    <tr>\n",
       "      <th>300022</th>\n",
       "      <td>499998</td>\n",
       "      <td>40000</td>\n",
       "    </tr>\n",
       "    <tr>\n",
       "      <th>300023</th>\n",
       "      <td>499999</td>\n",
       "      <td>63707</td>\n",
       "    </tr>\n",
       "  </tbody>\n",
       "</table>\n",
       "<p>300024 rows × 2 columns</p>\n",
       "</div>"
      ],
      "text/plain": [
       "        employee_id  salary\n",
       "0             10001   60117\n",
       "1             10002   65828\n",
       "2             10003   40006\n",
       "3             10004   40054\n",
       "4             10005   78228\n",
       "...             ...     ...\n",
       "300019       499995   40000\n",
       "300020       499996   58058\n",
       "300021       499997   49597\n",
       "300022       499998   40000\n",
       "300023       499999   63707\n",
       "\n",
       "[300024 rows x 2 columns]"
      ]
     },
     "execution_count": 6,
     "metadata": {},
     "output_type": "execute_result"
    }
   ],
   "source": [
    "# Checking Data Frame \n",
    "\n",
    "salaries_df"
   ]
  },
  {
   "cell_type": "code",
   "execution_count": 7,
   "id": "driving-clothing",
   "metadata": {},
   "outputs": [],
   "source": [
    "# Checking Data Types\n",
    "# salaries_df.dtypes"
   ]
  },
  {
   "cell_type": "code",
   "execution_count": 8,
   "id": "abroad-montreal",
   "metadata": {},
   "outputs": [],
   "source": [
    "max_salary = salaries_df['salary'].max()\n",
    "\n",
    "# max_salary"
   ]
  },
  {
   "cell_type": "code",
   "execution_count": 9,
   "id": "quality-marsh",
   "metadata": {},
   "outputs": [],
   "source": [
    "min_salary = salaries_df['salary'].min()\n",
    "\n",
    "# min_salary"
   ]
  },
  {
   "cell_type": "code",
   "execution_count": 10,
   "id": "spoken-house",
   "metadata": {},
   "outputs": [],
   "source": [
    "# Creating Variables \n",
    "\n",
    "bins = [min_salary, 49999, 59999, 69999, 79999, 89999, 99999, 109999, 119999, max_salary]\n",
    "group_names = [\"40K-50K\",\"50K-60K\",\"60K-70K\",\"70K-80K\",\"80K-90K\",\"90K-100K\",\"100K-110K\",\"110K-120K\",\"120K+\"]"
   ]
  },
  {
   "cell_type": "code",
   "execution_count": 11,
   "id": "aboriginal-employee",
   "metadata": {},
   "outputs": [],
   "source": [
    "# Creating Column\n",
    "\n",
    "salaries_df[\"Total Count\"] = pd.cut(salaries_df[\"salary\"], bins, \n",
    "                                    labels=group_names, include_lowest=True)"
   ]
  },
  {
   "cell_type": "code",
   "execution_count": 12,
   "id": "spread-banking",
   "metadata": {},
   "outputs": [],
   "source": [
    "# Counting Number Of Employees In Each Salary Range \n",
    "\n",
    "salaries_count = salaries_df[\"Total Count\"].value_counts()\n",
    "\n",
    "# salaries_count"
   ]
  },
  {
   "cell_type": "code",
   "execution_count": 13,
   "id": "novel-listening",
   "metadata": {},
   "outputs": [
    {
     "data": {
      "text/html": [
       "<div>\n",
       "<style scoped>\n",
       "    .dataframe tbody tr th:only-of-type {\n",
       "        vertical-align: middle;\n",
       "    }\n",
       "\n",
       "    .dataframe tbody tr th {\n",
       "        vertical-align: top;\n",
       "    }\n",
       "\n",
       "    .dataframe thead th {\n",
       "        text-align: right;\n",
       "    }\n",
       "</style>\n",
       "<table border=\"1\" class=\"dataframe\">\n",
       "  <thead>\n",
       "    <tr style=\"text-align: right;\">\n",
       "      <th></th>\n",
       "      <th>Total Count</th>\n",
       "    </tr>\n",
       "  </thead>\n",
       "  <tbody>\n",
       "    <tr>\n",
       "      <th>40K-50K</th>\n",
       "      <td>158465</td>\n",
       "    </tr>\n",
       "    <tr>\n",
       "      <th>50K-60K</th>\n",
       "      <td>57915</td>\n",
       "    </tr>\n",
       "    <tr>\n",
       "      <th>60K-70K</th>\n",
       "      <td>41413</td>\n",
       "    </tr>\n",
       "    <tr>\n",
       "      <th>70K-80K</th>\n",
       "      <td>24814</td>\n",
       "    </tr>\n",
       "    <tr>\n",
       "      <th>80K-90K</th>\n",
       "      <td>11845</td>\n",
       "    </tr>\n",
       "    <tr>\n",
       "      <th>90K-100K</th>\n",
       "      <td>4284</td>\n",
       "    </tr>\n",
       "    <tr>\n",
       "      <th>100K-110K</th>\n",
       "      <td>1069</td>\n",
       "    </tr>\n",
       "    <tr>\n",
       "      <th>110K-120K</th>\n",
       "      <td>195</td>\n",
       "    </tr>\n",
       "    <tr>\n",
       "      <th>120K+</th>\n",
       "      <td>24</td>\n",
       "    </tr>\n",
       "  </tbody>\n",
       "</table>\n",
       "</div>"
      ],
      "text/plain": [
       "           Total Count\n",
       "40K-50K         158465\n",
       "50K-60K          57915\n",
       "60K-70K          41413\n",
       "70K-80K          24814\n",
       "80K-90K          11845\n",
       "90K-100K          4284\n",
       "100K-110K         1069\n",
       "110K-120K          195\n",
       "120K+               24"
      ]
     },
     "execution_count": 13,
     "metadata": {},
     "output_type": "execute_result"
    }
   ],
   "source": [
    "# DataFrame Of Number Of Employees In Each Salary Range \n",
    "\n",
    "salaries_count_df = pd.DataFrame(salaries_count)\n",
    "salaries_count_df"
   ]
  },
  {
   "cell_type": "code",
   "execution_count": 14,
   "id": "dimensional-military",
   "metadata": {},
   "outputs": [
    {
     "data": {
      "text/plain": [
       "Text(0.5, 1.0, 'Most Common Salary Ranges')"
      ]
     },
     "execution_count": 14,
     "metadata": {},
     "output_type": "execute_result"
    },
    {
     "data": {
      "image/png": "[encoded data removed]",
      "text/plain": [
       "<Figure size 1440x720 with 1 Axes>"
      ]
     },
     "metadata": {
      "needs_background": "light"
     },
     "output_type": "display_data"
    }
   ],
   "source": [
    "# Creating Histogram Through Plot.Bar()\n",
    "\n",
    "ax1 = salaries_count_df.plot.bar(rot=70,figsize=(20,10), color='red', alpha = 0.4)\n",
    "ax1.set_xlabel('Salary Ranges')\n",
    "ax1.set_ylabel('Number Of Employees')\n",
    "ax1.set_title('Most Common Salary Ranges')"
   ]
  },
  {
   "cell_type": "code",
   "execution_count": 15,
   "id": "dressed-stuart",
   "metadata": {},
   "outputs": [],
   "source": [
    "# Reading SQL\n",
    "# https://www.programcreek.com/python/example/101381/pandas.read_sql\n",
    "\n",
    "average_salaries_df = pd.read_sql(\"\"\"SELECT t.title_name, ROUND(AVG(s.salary),2) AS average_salary\n",
    "FROM employees_info AS ei \n",
    "INNER JOIN salaries AS s ON\n",
    "s.employee_id = ei.employee_id \n",
    "INNER JOIN Titles AS t ON\n",
    "t.title_id = ei.employee_title_id\n",
    "GROUP BY t.title_name; \"\"\", conn)"
   ]
  },
  {
   "cell_type": "code",
   "execution_count": 16,
   "id": "balanced-tournament",
   "metadata": {},
   "outputs": [
    {
     "data": {
      "text/html": [
       "<div>\n",
       "<style scoped>\n",
       "    .dataframe tbody tr th:only-of-type {\n",
       "        vertical-align: middle;\n",
       "    }\n",
       "\n",
       "    .dataframe tbody tr th {\n",
       "        vertical-align: top;\n",
       "    }\n",
       "\n",
       "    .dataframe thead th {\n",
       "        text-align: right;\n",
       "    }\n",
       "</style>\n",
       "<table border=\"1\" class=\"dataframe\">\n",
       "  <thead>\n",
       "    <tr style=\"text-align: right;\">\n",
       "      <th></th>\n",
       "      <th>title_name</th>\n",
       "      <th>average_salary</th>\n",
       "    </tr>\n",
       "  </thead>\n",
       "  <tbody>\n",
       "    <tr>\n",
       "      <th>0</th>\n",
       "      <td>Assistant Engineer</td>\n",
       "      <td>48564.43</td>\n",
       "    </tr>\n",
       "    <tr>\n",
       "      <th>1</th>\n",
       "      <td>Engineer</td>\n",
       "      <td>48535.34</td>\n",
       "    </tr>\n",
       "    <tr>\n",
       "      <th>2</th>\n",
       "      <td>Manager</td>\n",
       "      <td>51531.04</td>\n",
       "    </tr>\n",
       "    <tr>\n",
       "      <th>3</th>\n",
       "      <td>Senior Engineer</td>\n",
       "      <td>48506.80</td>\n",
       "    </tr>\n",
       "    <tr>\n",
       "      <th>4</th>\n",
       "      <td>Senior Staff</td>\n",
       "      <td>58550.17</td>\n",
       "    </tr>\n",
       "    <tr>\n",
       "      <th>5</th>\n",
       "      <td>Staff</td>\n",
       "      <td>58465.38</td>\n",
       "    </tr>\n",
       "    <tr>\n",
       "      <th>6</th>\n",
       "      <td>Technique Leader</td>\n",
       "      <td>48582.90</td>\n",
       "    </tr>\n",
       "  </tbody>\n",
       "</table>\n",
       "</div>"
      ],
      "text/plain": [
       "           title_name  average_salary\n",
       "0  Assistant Engineer        48564.43\n",
       "1            Engineer        48535.34\n",
       "2             Manager        51531.04\n",
       "3     Senior Engineer        48506.80\n",
       "4        Senior Staff        58550.17\n",
       "5               Staff        58465.38\n",
       "6    Technique Leader        48582.90"
      ]
     },
     "execution_count": 16,
     "metadata": {},
     "output_type": "execute_result"
    }
   ],
   "source": [
    "# Checking Data Frame \n",
    "\n",
    "average_salaries_df"
   ]
  },
  {
   "cell_type": "code",
   "execution_count": 17,
   "id": "warming-settlement",
   "metadata": {},
   "outputs": [],
   "source": [
    "# Setting Title Name To Index\n",
    "\n",
    "title_name_index_df = average_salaries_df.set_index('title_name')"
   ]
  },
  {
   "cell_type": "code",
   "execution_count": 18,
   "id": "blocked-repair",
   "metadata": {
    "scrolled": false
   },
   "outputs": [
    {
     "data": {
      "text/plain": [
       "Text(0.5, 1.0, 'Average Salary By Title')"
      ]
     },
     "execution_count": 18,
     "metadata": {},
     "output_type": "execute_result"
    },
    {
     "data": {
      "image/png": "[encoded data removed]",
      "text/plain": [
       "<Figure size 1440x720 with 1 Axes>"
      ]
     },
     "metadata": {
      "needs_background": "light"
     },
     "output_type": "display_data"
    }
   ],
   "source": [
    "# Generate Average Salary Bar Chart From Data Frame \n",
    "\n",
    "ax2 = title_name_index_df.plot.bar(rot=70,figsize=(20,10), alpha = 0.7)\n",
    "ax2.set_xlabel('Title')\n",
    "ax2.set_ylabel('Average Salary (Thousands)')\n",
    "ax2.set_title('Average Salary By Title')"
   ]
  },
  {
   "cell_type": "code",
   "execution_count": null,
   "id": "behavioral-activation",
   "metadata": {},
   "outputs": [],
   "source": []
  }
 ],
 "metadata": {
  "kernelspec": {
   "display_name": "Python [conda env:PythonData] *",
   "language": "python",
   "name": "conda-env-PythonData-py"
  },
  "language_info": {
   "codemirror_mode": {
    "name": "ipython",
    "version": 3
   },
   "file_extension": ".py",
   "mimetype": "text/x-python",
   "name": "python",
   "nbconvert_exporter": "python",
   "pygments_lexer": "ipython3",
   "version": "3.6.10"
  }
 },
 "nbformat": 4,
 "nbformat_minor": 5
}
